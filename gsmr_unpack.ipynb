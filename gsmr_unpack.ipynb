{
 "cells": [
  {
   "cell_type": "code",
   "execution_count": 4,
   "metadata": {},
   "outputs": [],
   "source": [
    "import os\n",
    "import shutil\n",
    "import tarfile\n",
    "import glob"
   ]
  },
  {
   "cell_type": "code",
   "execution_count": 13,
   "metadata": {},
   "outputs": [],
   "source": [
    "tar_folder_path = r\"C:\\Users\\VESAKS\\Downloads\"\n",
    "tar_file_pattern = \"LiveTnibData*.tar\"\n",
    "extract_path = r\"C:\\Users\\VESAKS\\OneDrive - Bane NOR\\Prosjekter\\GSMR\\tnib_data_unpacked\""
   ]
  },
  {
   "cell_type": "code",
   "execution_count": 12,
   "metadata": {},
   "outputs": [
    {
     "name": "stdout",
     "output_type": "stream",
     "text": [
      "C:\\Users\\VESAKS\\Downloads\\LiveTnibData2Drage_20250101043502.tar\n"
     ]
    }
   ],
   "source": [
    "search_path = os.path.join(tar_folder_path, tar_file_pattern)\n",
    "matched_files = glob.glob(search_path)\n",
    "tar_path = matched_files[0]\n",
    "print(tar_path)"
   ]
  },
  {
   "cell_type": "code",
   "execution_count": 15,
   "metadata": {},
   "outputs": [
    {
     "name": "stdout",
     "output_type": "stream",
     "text": [
      "Created new folder: C:\\Users\\VESAKS\\OneDrive - Bane NOR\\Prosjekter\\GSMR\\tnib_data_unpacked\n"
     ]
    }
   ],
   "source": [
    "if os.path.exists(extract_path):\n",
    "    shutil.rmtree(extract_path)\n",
    "    print(f\"Deleted existing folder: {extract_path}\")\n",
    "\n",
    "# Recreate the folder\n",
    "os.makedirs(extract_path, exist_ok=True)\n",
    "print(f\"Created new folder: {extract_path}\")"
   ]
  },
  {
   "cell_type": "code",
   "execution_count": 16,
   "metadata": {},
   "outputs": [
    {
     "name": "stdout",
     "output_type": "stream",
     "text": [
      "Extracted C:\\Users\\VESAKS\\Downloads\\LiveTnibData2Drage_20250101043502.tar to C:\\Users\\VESAKS\\OneDrive - Bane NOR\\Prosjekter\\GSMR\\tnib_data_unpacked\n"
     ]
    },
    {
     "name": "stderr",
     "output_type": "stream",
     "text": [
      "C:\\Users\\VESAKS\\AppData\\Local\\Temp\\ipykernel_37008\\4175866555.py:2: DeprecationWarning: Python 3.14 will, by default, filter extracted tar archives and reject files or modify their metadata. Use the filter argument to control this behavior.\n",
      "  tar.extractall(path=extract_path)\n"
     ]
    }
   ],
   "source": [
    "with tarfile.open(tar_path, \"r\") as tar:\n",
    "    tar.extractall(path=extract_path)\n",
    "    print(f\"Extracted {tar_path} to {extract_path}\")"
   ]
  }
 ],
 "metadata": {
  "kernelspec": {
   "display_name": "Python 3",
   "language": "python",
   "name": "python3"
  },
  "language_info": {
   "codemirror_mode": {
    "name": "ipython",
    "version": 3
   },
   "file_extension": ".py",
   "mimetype": "text/x-python",
   "name": "python",
   "nbconvert_exporter": "python",
   "pygments_lexer": "ipython3",
   "version": "3.12.8"
  }
 },
 "nbformat": 4,
 "nbformat_minor": 2
}

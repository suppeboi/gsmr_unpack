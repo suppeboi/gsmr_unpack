{
 "cells": [
  {
   "cell_type": "code",
   "execution_count": 2,
   "metadata": {},
   "outputs": [],
   "source": [
    "import os\n",
    "import shutil\n",
    "import tarfile\n",
    "import glob\n",
    "import gzip"
   ]
  },
  {
   "cell_type": "code",
   "execution_count": 25,
   "metadata": {},
   "outputs": [],
   "source": [
    "tar_folder_path = r\"C:\\Users\\VESAKS\\Downloads\"\n",
    "tar_file_pattern = \"LiveTnibData*.tar\"\n",
    "extract_path = r\"C:\\Users\\VESAKS\\OneDrive - Bane NOR\\Prosjekter\\GSMR\\tnib_data_unpacked_raw\"\n",
    "final_path = r\"C:\\Users\\VESAKS\\OneDrive - Bane NOR\\Prosjekter\\GSMR\\tnib_data_unpacked\""
   ]
  },
  {
   "cell_type": "code",
   "execution_count": 26,
   "metadata": {},
   "outputs": [
    {
     "name": "stdout",
     "output_type": "stream",
     "text": [
      "C:\\Users\\VESAKS\\Downloads\\LiveTnibData2Drage_20250101043502.tar\n"
     ]
    }
   ],
   "source": [
    "search_path = os.path.join(tar_folder_path, tar_file_pattern)\n",
    "matched_files = glob.glob(search_path)\n",
    "tar_path = matched_files[0]\n",
    "print(tar_path)"
   ]
  },
  {
   "cell_type": "code",
   "execution_count": 27,
   "metadata": {},
   "outputs": [
    {
     "name": "stdout",
     "output_type": "stream",
     "text": [
      "You need to delete or clear this folder before continuing: C:\\Users\\VESAKS\\OneDrive - Bane NOR\\Prosjekter\\GSMR\\tnib_data_unpacked_raw\n",
      "Created new folder: C:\\Users\\VESAKS\\OneDrive - Bane NOR\\Prosjekter\\GSMR\\tnib_data_unpacked_raw\n"
     ]
    }
   ],
   "source": [
    "os.makedirs(extract_path, exist_ok=True)\n",
    "print(f\"Created new folder: {extract_path}\")\n",
    "\n",
    "with tarfile.open(tar_path, \"r\") as tar:\n",
    "    tar.extractall(path=extract_path)\n",
    "    print(f\"Extracted {tar_path} to {extract_path}\")"
   ]
  },
  {
   "cell_type": "code",
   "execution_count": 29,
   "metadata": {},
   "outputs": [
    {
     "name": "stdout",
     "output_type": "stream",
     "text": [
      "Decompressed: C:\\Users\\VESAKS\\OneDrive - Bane NOR\\Prosjekter\\GSMR\\tnib_data_unpacked_raw\\LiveTnib_activationlog_view_20250101043502.csv.gz -> C:\\Users\\VESAKS\\OneDrive - Bane NOR\\Prosjekter\\GSMR\\tnib_data_unpacked\\LiveTnib_activationlog_view_20250101043502.csv\n",
      "Decompressed: C:\\Users\\VESAKS\\OneDrive - Bane NOR\\Prosjekter\\GSMR\\tnib_data_unpacked_raw\\LiveTnib_billing_product_view_20250101043502.csv.gz -> C:\\Users\\VESAKS\\OneDrive - Bane NOR\\Prosjekter\\GSMR\\tnib_data_unpacked\\LiveTnib_billing_product_view_20250101043502.csv\n",
      "Decompressed: C:\\Users\\VESAKS\\OneDrive - Bane NOR\\Prosjekter\\GSMR\\tnib_data_unpacked_raw\\LiveTnib_changelog_view_20250101043502.csv.gz -> C:\\Users\\VESAKS\\OneDrive - Bane NOR\\Prosjekter\\GSMR\\tnib_data_unpacked\\LiveTnib_changelog_view_20250101043502.csv\n",
      "Decompressed: C:\\Users\\VESAKS\\OneDrive - Bane NOR\\Prosjekter\\GSMR\\tnib_data_unpacked_raw\\LiveTnib_change_log_object_types_20250101043502.csv.gz -> C:\\Users\\VESAKS\\OneDrive - Bane NOR\\Prosjekter\\GSMR\\tnib_data_unpacked\\LiveTnib_change_log_object_types_20250101043502.csv\n",
      "Decompressed: C:\\Users\\VESAKS\\OneDrive - Bane NOR\\Prosjekter\\GSMR\\tnib_data_unpacked_raw\\LiveTnib_customer_comment_20250101043502.csv.gz -> C:\\Users\\VESAKS\\OneDrive - Bane NOR\\Prosjekter\\GSMR\\tnib_data_unpacked\\LiveTnib_customer_comment_20250101043502.csv\n",
      "Decompressed: C:\\Users\\VESAKS\\OneDrive - Bane NOR\\Prosjekter\\GSMR\\tnib_data_unpacked_raw\\LiveTnib_customer_msisdn_ranges_20250101043502.csv.gz -> C:\\Users\\VESAKS\\OneDrive - Bane NOR\\Prosjekter\\GSMR\\tnib_data_unpacked\\LiveTnib_customer_msisdn_ranges_20250101043502.csv\n",
      "Decompressed: C:\\Users\\VESAKS\\OneDrive - Bane NOR\\Prosjekter\\GSMR\\tnib_data_unpacked_raw\\LiveTnib_customer_type_20250101043502.csv.gz -> C:\\Users\\VESAKS\\OneDrive - Bane NOR\\Prosjekter\\GSMR\\tnib_data_unpacked\\LiveTnib_customer_type_20250101043502.csv\n",
      "Decompressed: C:\\Users\\VESAKS\\OneDrive - Bane NOR\\Prosjekter\\GSMR\\tnib_data_unpacked_raw\\LiveTnib_customer_view_20250101043502.csv.gz -> C:\\Users\\VESAKS\\OneDrive - Bane NOR\\Prosjekter\\GSMR\\tnib_data_unpacked\\LiveTnib_customer_view_20250101043502.csv\n",
      "Decompressed: C:\\Users\\VESAKS\\OneDrive - Bane NOR\\Prosjekter\\GSMR\\tnib_data_unpacked_raw\\LiveTnib_ota_profile_20250101043502.csv.gz -> C:\\Users\\VESAKS\\OneDrive - Bane NOR\\Prosjekter\\GSMR\\tnib_data_unpacked\\LiveTnib_ota_profile_20250101043502.csv\n",
      "Decompressed: C:\\Users\\VESAKS\\OneDrive - Bane NOR\\Prosjekter\\GSMR\\tnib_data_unpacked_raw\\LiveTnib_sim_card_view_20250101043502.csv.gz -> C:\\Users\\VESAKS\\OneDrive - Bane NOR\\Prosjekter\\GSMR\\tnib_data_unpacked\\LiveTnib_sim_card_view_20250101043502.csv\n",
      "Decompressed: C:\\Users\\VESAKS\\OneDrive - Bane NOR\\Prosjekter\\GSMR\\tnib_data_unpacked_raw\\LiveTnib_subscriber_cug_view_20250101043502.csv.gz -> C:\\Users\\VESAKS\\OneDrive - Bane NOR\\Prosjekter\\GSMR\\tnib_data_unpacked\\LiveTnib_subscriber_cug_view_20250101043502.csv\n",
      "Decompressed: C:\\Users\\VESAKS\\OneDrive - Bane NOR\\Prosjekter\\GSMR\\tnib_data_unpacked_raw\\LiveTnib_subscription_comment_20250101043502.csv.gz -> C:\\Users\\VESAKS\\OneDrive - Bane NOR\\Prosjekter\\GSMR\\tnib_data_unpacked\\LiveTnib_subscription_comment_20250101043502.csv\n",
      "Decompressed: C:\\Users\\VESAKS\\OneDrive - Bane NOR\\Prosjekter\\GSMR\\tnib_data_unpacked_raw\\LiveTnib_subscription_functional_numbers_20250101043502.csv.gz -> C:\\Users\\VESAKS\\OneDrive - Bane NOR\\Prosjekter\\GSMR\\tnib_data_unpacked\\LiveTnib_subscription_functional_numbers_20250101043502.csv\n",
      "Decompressed: C:\\Users\\VESAKS\\OneDrive - Bane NOR\\Prosjekter\\GSMR\\tnib_data_unpacked_raw\\LiveTnib_subscription_gprs_packages_20250101043502.csv.gz -> C:\\Users\\VESAKS\\OneDrive - Bane NOR\\Prosjekter\\GSMR\\tnib_data_unpacked\\LiveTnib_subscription_gprs_packages_20250101043502.csv\n",
      "Decompressed: C:\\Users\\VESAKS\\OneDrive - Bane NOR\\Prosjekter\\GSMR\\tnib_data_unpacked_raw\\LiveTnib_subscription_logical_services_20250101043502.csv.gz -> C:\\Users\\VESAKS\\OneDrive - Bane NOR\\Prosjekter\\GSMR\\tnib_data_unpacked\\LiveTnib_subscription_logical_services_20250101043502.csv\n",
      "Decompressed: C:\\Users\\VESAKS\\OneDrive - Bane NOR\\Prosjekter\\GSMR\\tnib_data_unpacked_raw\\LiveTnib_subscription_products_view_20250101043502.csv.gz -> C:\\Users\\VESAKS\\OneDrive - Bane NOR\\Prosjekter\\GSMR\\tnib_data_unpacked\\LiveTnib_subscription_products_view_20250101043502.csv\n",
      "Decompressed: C:\\Users\\VESAKS\\OneDrive - Bane NOR\\Prosjekter\\GSMR\\tnib_data_unpacked_raw\\LiveTnib_subscription_registration_rights_20250101043502.csv.gz -> C:\\Users\\VESAKS\\OneDrive - Bane NOR\\Prosjekter\\GSMR\\tnib_data_unpacked\\LiveTnib_subscription_registration_rights_20250101043502.csv\n",
      "Decompressed: C:\\Users\\VESAKS\\OneDrive - Bane NOR\\Prosjekter\\GSMR\\tnib_data_unpacked_raw\\LiveTnib_subscription_sim_history_20250101043502.csv.gz -> C:\\Users\\VESAKS\\OneDrive - Bane NOR\\Prosjekter\\GSMR\\tnib_data_unpacked\\LiveTnib_subscription_sim_history_20250101043502.csv\n",
      "Decompressed: C:\\Users\\VESAKS\\OneDrive - Bane NOR\\Prosjekter\\GSMR\\tnib_data_unpacked_raw\\LiveTnib_subscription_view_20250101043502.csv.gz -> C:\\Users\\VESAKS\\OneDrive - Bane NOR\\Prosjekter\\GSMR\\tnib_data_unpacked\\LiveTnib_subscription_view_20250101043502.csv\n"
     ]
    }
   ],
   "source": [
    "#untar folder done. Now we have to unzip all the individual files\n",
    "for filename in os.listdir(extract_path):\n",
    "    if filename.endswith(\".csv.gz\"):\n",
    "        gz_path = os.path.join(extract_path, filename)\n",
    "        csv_path = os.path.join(final_path, filename[:-3])\n",
    "\n",
    "        # Decompress the .csv.gz file\n",
    "        with gzip.open(gz_path, \"rb\") as f_in:\n",
    "            with open(csv_path, \"wb\") as f_out:\n",
    "                shutil.copyfileobj(f_in, f_out)\n",
    "        os.remove(gz_path)\n",
    "        print(f\"Decompressed: {gz_path} -> {csv_path}\") "
   ]
  }
 ],
 "metadata": {
  "kernelspec": {
   "display_name": "Python 3",
   "language": "python",
   "name": "python3"
  },
  "language_info": {
   "codemirror_mode": {
    "name": "ipython",
    "version": 3
   },
   "file_extension": ".py",
   "mimetype": "text/x-python",
   "name": "python",
   "nbconvert_exporter": "python",
   "pygments_lexer": "ipython3",
   "version": "3.12.8"
  }
 },
 "nbformat": 4,
 "nbformat_minor": 2
}
